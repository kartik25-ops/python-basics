{
  "nbformat": 4,
  "nbformat_minor": 0,
  "metadata": {
    "colab": {
      "provenance": []
    },
    "kernelspec": {
      "name": "python3",
      "display_name": "Python 3"
    },
    "language_info": {
      "name": "python"
    }
  },
  "cells": [
    {
      "cell_type": "markdown",
      "source": [
        "1 What is Python, and why is it popular:\n",
        "\n",
        "- Python is a computer programming language that is case-sensitive. It is popular because it is easy to understand, simple to write, and contains a lot of libraries, making it a favorite among developers and learners."
      ],
      "metadata": {
        "id": "6gDBCSYp44--"
      }
    },
    {
      "cell_type": "markdown",
      "source": [
        "2.What is an interpreter in Python:\n",
        "- An interpeter in python is a program that executes the code line by line, transaltiing it into machine-readable instruvtion.its convert the high-level language into machine-level.\n"
      ],
      "metadata": {
        "id": "8IbErsbk8exb"
      }
    },
    {
      "cell_type": "markdown",
      "source": [
        "3.What are pre-defined keywords in Python\n",
        "- predefined keywords in Python are reserved words that already exist in the language and have a specific purpose.\n",
        "There are 33 predefined keywords in Python."
      ],
      "metadata": {
        "id": "_yz09JsKC67h"
      }
    },
    {
      "cell_type": "markdown",
      "source": [
        "4.Can keywords be used as variable names:\n",
        "- NO,keywords cannot be used as variable names or identifiers because they are part of Python's syntax and they are reserved words with a predefined meanning."
      ],
      "metadata": {
        "id": "6qf61ibDFTLn"
      }
    },
    {
      "cell_type": "markdown",
      "source": [
        "5.What is mutability in Python:\n",
        "- The term 'mutability' means changeable or modifiable. In Python, an object can be changeable or modifiable. For example, lists and dictionaries are mutable objects."
      ],
      "metadata": {
        "id": "APADVJZl8Wu2"
      }
    },
    {
      "cell_type": "markdown",
      "source": [
        "6.Why are lists mutable, but tuples are immutable:\n",
        "- Lists can be changed because they are designed to be flexible—you can add, remove, or modify their items. Tuples, on the other hand, cannot be changed after creation, making them faster and safer when you want to keep data unchanged.\n"
      ],
      "metadata": {
        "id": "yV6dhCZPKjeF"
      }
    },
    {
      "cell_type": "markdown",
      "source": [
        "7.What is the difference between “==” and “is” operators in Python:\n",
        "- \"==\" is a Equality operator. checks if values are the same, and return the true value.\n",
        "- while,\"is\" identity operator that checks if two objects share the same memory location and returns False if they do not.\"\n"
      ],
      "metadata": {
        "id": "V_iAJVpQNZlG"
      }
    },
    {
      "cell_type": "markdown",
      "source": [
        "8.What are logical operators in Python:\n",
        "- Logical operators are used to combine conditional statements and return True or False values based on conditions. Example: NOT,AND,OR"
      ],
      "metadata": {
        "id": "09L3pV3dQ5Ps"
      }
    },
    {
      "cell_type": "markdown",
      "source": [
        "9.What is type casting in Python:\n",
        "- Type casting (or type conversion) means changing a value from one data type to another in Python. Example, Converting Integer to String using str()."
      ],
      "metadata": {
        "id": "1VpFp3RwSA50"
      }
    },
    {
      "cell_type": "markdown",
      "source": [
        "10.What is the difference between implicit and explicit type casting.\n",
        "- implicit type casting is done automatically by the interpreter without user intervention, whereas explicit type casting is manually done by the user or programmer to convert data into a specific type."
      ],
      "metadata": {
        "id": "6NR2fxORTzS8"
      }
    },
    {
      "cell_type": "markdown",
      "source": [
        "11.What is the purpose of conditional statements in Python:\n",
        "- Conditional statements in Python help a program make decisions and execute different code based on conditions.\n",
        "-controls the follow of execution"
      ],
      "metadata": {
        "id": "8nB6hNQSYa6-"
      }
    },
    {
      "cell_type": "markdown",
      "source": [
        "12. How does the elif statement work:\n",
        "- The elif (else if) statement is  to check multiple conditions in a program.\n",
        "- How It Works:\n",
        "-first the \"if\" condition is checked ,if the \"if\" is false\n",
        "-then the \"elif\" conditions is checked,if the elif condtions is also false\n",
        "-then the esle conditons is runs"
      ],
      "metadata": {
        "id": "CyJYr7SEpZPv"
      }
    },
    {
      "cell_type": "markdown",
      "source": [
        "13.What is the difference between for and while loops:\n",
        "- for loop\n",
        "  - Used when the number of iterations is fixed or known\n",
        "  - terates over a sequence (list, range, string, etc.)\n",
        "  - Stops automatically when the sequence ends\n",
        "- while loop\n",
        "  - Used when the number of iterations is unknown\n",
        "  - Runs as long as a condition is True\n",
        "  - Requires manual condition update to avoid infinite loops\n"
      ],
      "metadata": {
        "id": "oTNUOqAZrhJ-"
      }
    },
    {
      "cell_type": "markdown",
      "source": [
        "14.Describe a scenario where a while loop is more suitable than a for loop:\n",
        "- A while loop is better when the number of iterations(repetition) is unknown and depends on a condition.\n",
        "scenario:asking a user to enter a valid age (greater than 0).\n",
        "So The number of times the loop runs depends on the user’s input.\n",
        "\n",
        "\n",
        "\n",
        "\n",
        "\n"
      ],
      "metadata": {
        "id": "-zN4fNw4vB-f"
      }
    },
    {
      "cell_type": "code",
      "source": [
        "# Practical Questions"
      ],
      "metadata": {
        "id": "G6JZTmvbbG6l"
      },
      "execution_count": null,
      "outputs": []
    },
    {
      "cell_type": "code",
      "source": [
        "# 1.Write a Python program to print \"Hello, World!\n",
        "print(\"Hello World\")"
      ],
      "metadata": {
        "colab": {
          "base_uri": "https://localhost:8080/"
        },
        "collapsed": true,
        "id": "jc1qoGjVbVC5",
        "outputId": "c7f19851-2594-4c6e-d2a9-2b6ffda00a6e"
      },
      "execution_count": null,
      "outputs": [
        {
          "output_type": "stream",
          "name": "stdout",
          "text": [
            "Hello World\n"
          ]
        }
      ]
    },
    {
      "cell_type": "code",
      "source": [
        "#2.Write a Python program that displays your name and age\n",
        "Name= input(\"enter your name \")\n",
        "Age=int(input(\"enter your age \"))\n",
        "print(Name)\n",
        "print(Age)"
      ],
      "metadata": {
        "colab": {
          "base_uri": "https://localhost:8080/"
        },
        "id": "RqCXcALcbkIh",
        "outputId": "a06f4248-6016-4e4d-9c7f-bba9ed8a2b6e"
      },
      "execution_count": null,
      "outputs": [
        {
          "output_type": "stream",
          "name": "stdout",
          "text": [
            "enter your name Kartik Dubey\n",
            "enter your age 21\n",
            "Kartik Dubey\n",
            "21\n"
          ]
        }
      ]
    },
    {
      "cell_type": "code",
      "source": [
        "#3.Write code to print all the pre-defined keywords in Python using the keyword library\n",
        "import keyword\n",
        "print(keyword. kwlist)"
      ],
      "metadata": {
        "colab": {
          "base_uri": "https://localhost:8080/"
        },
        "id": "LU1QmFgOchGW",
        "outputId": "86ba6b03-5d35-4313-94f9-cfd7bfb4511e"
      },
      "execution_count": null,
      "outputs": [
        {
          "output_type": "stream",
          "name": "stdout",
          "text": [
            "['False', 'None', 'True', 'and', 'as', 'assert', 'async', 'await', 'break', 'class', 'continue', 'def', 'del', 'elif', 'else', 'except', 'finally', 'for', 'from', 'global', 'if', 'import', 'in', 'is', 'lambda', 'nonlocal', 'not', 'or', 'pass', 'raise', 'return', 'try', 'while', 'with', 'yield']\n"
          ]
        }
      ]
    },
    {
      "cell_type": "code",
      "source": [
        "#4. Write a program that checks if a given word is a Python keyword\n",
        "import keyword\n",
        "word = input(\"Enter a word: \")\n",
        "if keyword.iskeyword(word):\n",
        "    print(f\"{word} is a Python keyword.\")\n",
        "else:\n",
        "    print(f\"{word} is not a Python keyword.\")\n",
        "\n",
        "\n"
      ],
      "metadata": {
        "id": "y2OQKpKHdXtr",
        "colab": {
          "base_uri": "https://localhost:8080/"
        },
        "outputId": "e729aeef-f12a-48c1-f57a-8f50aafebbac"
      },
      "execution_count": null,
      "outputs": [
        {
          "output_type": "stream",
          "name": "stdout",
          "text": [
            "Enter a word: if\n",
            "if is a Python keyword.\n"
          ]
        }
      ]
    },
    {
      "cell_type": "code",
      "source": [
        "#5.Create a list and tuple in Python, and demonstrate how attempting to change an element works differently for each\n",
        "L=[\"RCB\",\"CSK\",\"MI\",\"KKR\"]\n",
        "L[3]=\"GT\" #Changing the third element (index 2)\n",
        "print(L)\n",
        "T=(1,2,3,4,5)\n",
        "T[1]=8 # Tuples do not support direct modification.\n",
        "#  this will show error 'tuple' object does not support item assignment"
      ],
      "metadata": {
        "id": "01MDsJJF0QKc",
        "colab": {
          "base_uri": "https://localhost:8080/",
          "height": 193
        },
        "collapsed": true,
        "outputId": "5e1abefe-fa2e-4046-a39a-7ef662bdc6d3"
      },
      "execution_count": null,
      "outputs": [
        {
          "output_type": "stream",
          "name": "stdout",
          "text": [
            "['RCB', 'CSK', 'GT', 'KKR']\n"
          ]
        },
        {
          "output_type": "error",
          "ename": "TypeError",
          "evalue": "'tuple' object does not support item assignment",
          "traceback": [
            "\u001b[0;31m---------------------------------------------------------------------------\u001b[0m",
            "\u001b[0;31mTypeError\u001b[0m                                 Traceback (most recent call last)",
            "\u001b[0;32m<ipython-input-15-b3a74f6dbd93>\u001b[0m in \u001b[0;36m<cell line: 0>\u001b[0;34m()\u001b[0m\n\u001b[1;32m      4\u001b[0m \u001b[0mprint\u001b[0m\u001b[0;34m(\u001b[0m\u001b[0mL\u001b[0m\u001b[0;34m)\u001b[0m\u001b[0;34m\u001b[0m\u001b[0;34m\u001b[0m\u001b[0m\n\u001b[1;32m      5\u001b[0m \u001b[0mT\u001b[0m\u001b[0;34m=\u001b[0m\u001b[0;34m(\u001b[0m\u001b[0;36m1\u001b[0m\u001b[0;34m,\u001b[0m\u001b[0;36m2\u001b[0m\u001b[0;34m,\u001b[0m\u001b[0;36m3\u001b[0m\u001b[0;34m,\u001b[0m\u001b[0;36m4\u001b[0m\u001b[0;34m,\u001b[0m\u001b[0;36m5\u001b[0m\u001b[0;34m)\u001b[0m\u001b[0;34m\u001b[0m\u001b[0;34m\u001b[0m\u001b[0m\n\u001b[0;32m----> 6\u001b[0;31m \u001b[0mT\u001b[0m\u001b[0;34m[\u001b[0m\u001b[0;36m1\u001b[0m\u001b[0;34m]\u001b[0m\u001b[0;34m=\u001b[0m\u001b[0;36m8\u001b[0m\u001b[0;34m\u001b[0m\u001b[0;34m\u001b[0m\u001b[0m\n\u001b[0m",
            "\u001b[0;31mTypeError\u001b[0m: 'tuple' object does not support item assignment"
          ]
        }
      ]
    },
    {
      "cell_type": "code",
      "source": [
        "#6.Write a function to demonstrate the behavior of mutable and immutable arguments\n",
        "\n"
      ],
      "metadata": {
        "id": "VfWaQ4Eb3OUF"
      },
      "execution_count": null,
      "outputs": []
    },
    {
      "cell_type": "code",
      "source": [
        "#7.Write a program to demonstrate the use of logical operators\n",
        "marks=int(input(\"enter your marks \"))\n",
        "total_Marks=int(input(\"enter total marks \"))\n",
        "print(marks>33 and total_Marks>180)\n",
        "print(marks>33 or total_Marks>180)"
      ],
      "metadata": {
        "id": "636LX0_M-AlT",
        "colab": {
          "base_uri": "https://localhost:8080/"
        },
        "collapsed": true,
        "outputId": "b688f31b-36d7-420c-a6e2-802f1d21a20d"
      },
      "execution_count": null,
      "outputs": [
        {
          "output_type": "stream",
          "name": "stdout",
          "text": [
            "enter your marks 80\n",
            "enter total marks 160\n",
            "False\n",
            "True\n"
          ]
        }
      ]
    },
    {
      "cell_type": "code",
      "source": [
        "#8.Write a Python program to convert user input from string to integer, float, and boolean types\n",
        "string_value=input(\"enter a string value \")\n",
        "integer_value=int(string_value)\n",
        "float_value=float(string_value)\n",
        "boolean_value=bool(string_value)\n",
        "print(integer_value)\n",
        "print(float_value)\n",
        "print(boolean_value)\n",
        "\n"
      ],
      "metadata": {
        "id": "ZGE6hRxCb6j6",
        "colab": {
          "base_uri": "https://localhost:8080/"
        },
        "collapsed": true,
        "outputId": "16a5288d-b402-4678-945d-418968039fc0"
      },
      "execution_count": 10,
      "outputs": [
        {
          "output_type": "stream",
          "name": "stdout",
          "text": [
            "enter a string value 10\n",
            "10\n",
            "10.0\n",
            "True\n"
          ]
        }
      ]
    },
    {
      "cell_type": "code",
      "source": [
        "#9.Write code to demonstrate type casting with list elements\n",
        "list=[1,2,3,3.5,4.0]\n",
        "string_list=[str(element) for element in list]\n",
        "print(string_list)\n",
        "#\n",
        "list=[1,2,3,3.5,4.0]\n",
        "float_list=[float(element) for element in list]\n",
        "print(float_list)\n"
      ],
      "metadata": {
        "colab": {
          "base_uri": "https://localhost:8080/"
        },
        "collapsed": true,
        "id": "QEaOGfCj2d6j",
        "outputId": "f4b14a9a-b4a8-41f8-ea7c-c49c2b26a0ce"
      },
      "execution_count": 15,
      "outputs": [
        {
          "output_type": "stream",
          "name": "stdout",
          "text": [
            "['1', '2', '3', '3.5', '4.0']\n",
            "[1.0, 2.0, 3.0, 3.5, 4.0]\n"
          ]
        }
      ]
    },
    {
      "cell_type": "code",
      "source": [
        "#10.Write a program that checks if a number is positive, negative, or zero\n",
        "number=int(input(\"enter a number \"))\n",
        "if number>0:\n",
        "  print(\"number is positive\")\n",
        "elif number<0:\n",
        "  print(\"number is negative\")\n",
        "else:\n",
        "  print(\"number is zero\")\n"
      ],
      "metadata": {
        "colab": {
          "base_uri": "https://localhost:8080/"
        },
        "collapsed": true,
        "id": "hU3-_OMe6Ui1",
        "outputId": "2b971548-b90f-47d6-88b1-0d16c72247a4"
      },
      "execution_count": 19,
      "outputs": [
        {
          "output_type": "stream",
          "name": "stdout",
          "text": [
            "enter a number 0\n",
            "number is zero\n"
          ]
        }
      ]
    },
    {
      "cell_type": "code",
      "source": [
        "#11. Write a for loop to print numbers from 1 to 10\n",
        "for i in range(1,11):\n",
        "  print(i)\n"
      ],
      "metadata": {
        "colab": {
          "base_uri": "https://localhost:8080/"
        },
        "collapsed": true,
        "id": "BEJX9kI07SZ_",
        "outputId": "cba2fed8-5981-4500-df0b-08e77d1778e2"
      },
      "execution_count": 21,
      "outputs": [
        {
          "output_type": "stream",
          "name": "stdout",
          "text": [
            "1\n",
            "2\n",
            "3\n",
            "4\n",
            "5\n",
            "6\n",
            "7\n",
            "8\n",
            "9\n",
            "10\n"
          ]
        }
      ]
    },
    {
      "cell_type": "code",
      "source": [
        "#12.Write a Python program to find the sum of all even numbers between 1 and 50\n",
        "sum=0\n",
        "for i in range(1,51):\n",
        "  if i%2==0:\n",
        "    sum=sum+i\n",
        "print(sum)\n",
        "\n",
        "\n"
      ],
      "metadata": {
        "colab": {
          "base_uri": "https://localhost:8080/"
        },
        "collapsed": true,
        "id": "h9v-_01-72hC",
        "outputId": "c1e1c00c-b0cf-41ff-ab34-0d611a3eb34f"
      },
      "execution_count": 30,
      "outputs": [
        {
          "output_type": "stream",
          "name": "stdout",
          "text": [
            "650\n"
          ]
        }
      ]
    },
    {
      "cell_type": "code",
      "source": [
        "#13.Write a program to reverse a string using a while loop\n",
        "string =input(\"enter a string \")\n",
        "while string:\n",
        "  print(string[-1])\n",
        "  string=string[:-1]\n",
        "\n"
      ],
      "metadata": {
        "colab": {
          "base_uri": "https://localhost:8080/"
        },
        "collapsed": true,
        "id": "jif0atqw-pGg",
        "outputId": "0cfc1edd-252a-4537-bd73-02fd6ba9e644"
      },
      "execution_count": 31,
      "outputs": [
        {
          "output_type": "stream",
          "name": "stdout",
          "text": [
            "enter a string kartik\n",
            "k\n",
            "i\n",
            "t\n",
            "r\n",
            "a\n",
            "k\n"
          ]
        }
      ]
    },
    {
      "cell_type": "code",
      "source": [
        "#14. Write a Python program to calculate the factorial of a number provided by the user using a while loop\n",
        "number=int(input(\"enter a number \"))\n",
        "factorial=1\n",
        "while number>0:\n",
        "  factorial=factorial*number\n",
        "  number=number-1\n",
        "print( factorial)\n"
      ],
      "metadata": {
        "colab": {
          "base_uri": "https://localhost:8080/"
        },
        "collapsed": true,
        "id": "h_-dd2GjBoAZ",
        "outputId": "7cdaf441-7c12-4af1-d658-273e3ec23966"
      },
      "execution_count": 39,
      "outputs": [
        {
          "output_type": "stream",
          "name": "stdout",
          "text": [
            "enter a number 5\n",
            "120\n"
          ]
        }
      ]
    },
    {
      "cell_type": "code",
      "source": [],
      "metadata": {
        "id": "zlX4GgjpFV7O"
      },
      "execution_count": null,
      "outputs": []
    }
  ]
}